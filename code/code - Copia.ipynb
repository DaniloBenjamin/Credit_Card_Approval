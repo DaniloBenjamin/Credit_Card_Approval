{
 "cells": [
  {
   "cell_type": "code",
   "execution_count": 2,
   "id": "30a01069",
   "metadata": {},
   "outputs": [],
   "source": [
    "#Project: Predicting Credit Card Approvals"
   ]
  },
  {
   "cell_type": "code",
   "execution_count": 3,
   "id": "a3985a9b",
   "metadata": {},
   "outputs": [],
   "source": [
    "#Importing packages"
   ]
  },
  {
   "cell_type": "code",
   "execution_count": 7,
   "id": "5cc6c132",
   "metadata": {},
   "outputs": [
    {
     "ename": "ImportError",
     "evalue": "cannot import name '_check_y' from 'sklearn.utils.validation' (C:\\Users\\Danilo\\anaconda3\\lib\\site-packages\\sklearn\\utils\\validation.py)",
     "output_type": "error",
     "traceback": [
      "\u001b[1;31m---------------------------------------------------------------------------\u001b[0m",
      "\u001b[1;31mImportError\u001b[0m                               Traceback (most recent call last)",
      "\u001b[1;32m~\\AppData\\Local\\Temp/ipykernel_6368/3474002103.py\u001b[0m in \u001b[0;36m<module>\u001b[1;34m\u001b[0m\n\u001b[0;32m      4\u001b[0m \u001b[1;32mimport\u001b[0m \u001b[0mpandas_profiling\u001b[0m\u001b[1;33m\u001b[0m\u001b[1;33m\u001b[0m\u001b[0m\n\u001b[0;32m      5\u001b[0m \u001b[1;32mfrom\u001b[0m \u001b[0msklearn\u001b[0m\u001b[1;33m.\u001b[0m\u001b[0mimpute\u001b[0m \u001b[1;32mimport\u001b[0m \u001b[0mKNNImputer\u001b[0m\u001b[1;33m\u001b[0m\u001b[1;33m\u001b[0m\u001b[0m\n\u001b[1;32m----> 6\u001b[1;33m \u001b[1;32mfrom\u001b[0m \u001b[0mfeature_engine\u001b[0m\u001b[1;33m.\u001b[0m\u001b[0moutliers\u001b[0m \u001b[1;32mimport\u001b[0m \u001b[0moutlierTrimmer\u001b[0m\u001b[1;33m\u001b[0m\u001b[1;33m\u001b[0m\u001b[0m\n\u001b[0m",
      "\u001b[1;32m~\\anaconda3\\lib\\site-packages\\feature_engine\\outliers\\__init__.py\u001b[0m in \u001b[0;36m<module>\u001b[1;34m\u001b[0m\n\u001b[0;32m      3\u001b[0m \"\"\"\n\u001b[0;32m      4\u001b[0m \u001b[1;33m\u001b[0m\u001b[0m\n\u001b[1;32m----> 5\u001b[1;33m \u001b[1;32mfrom\u001b[0m \u001b[1;33m.\u001b[0m\u001b[0martbitrary\u001b[0m \u001b[1;32mimport\u001b[0m \u001b[0mArbitraryOutlierCapper\u001b[0m\u001b[1;33m\u001b[0m\u001b[1;33m\u001b[0m\u001b[0m\n\u001b[0m\u001b[0;32m      6\u001b[0m \u001b[1;32mfrom\u001b[0m \u001b[1;33m.\u001b[0m\u001b[0mtrimmer\u001b[0m \u001b[1;32mimport\u001b[0m \u001b[0mOutlierTrimmer\u001b[0m\u001b[1;33m\u001b[0m\u001b[1;33m\u001b[0m\u001b[0m\n\u001b[0;32m      7\u001b[0m \u001b[1;32mfrom\u001b[0m \u001b[1;33m.\u001b[0m\u001b[0mwinsorizer\u001b[0m \u001b[1;32mimport\u001b[0m \u001b[0mWinsorizer\u001b[0m\u001b[1;33m\u001b[0m\u001b[1;33m\u001b[0m\u001b[0m\n",
      "\u001b[1;32m~\\anaconda3\\lib\\site-packages\\feature_engine\\outliers\\artbitrary.py\u001b[0m in \u001b[0;36m<module>\u001b[1;34m\u001b[0m\n\u001b[0;32m     24\u001b[0m     \u001b[0m_find_or_check_numerical_variables\u001b[0m\u001b[1;33m,\u001b[0m\u001b[1;33m\u001b[0m\u001b[1;33m\u001b[0m\u001b[0m\n\u001b[0;32m     25\u001b[0m )\n\u001b[1;32m---> 26\u001b[1;33m from feature_engine.dataframe_checks import (\n\u001b[0m\u001b[0;32m     27\u001b[0m     \u001b[0m_check_contains_inf\u001b[0m\u001b[1;33m,\u001b[0m\u001b[1;33m\u001b[0m\u001b[1;33m\u001b[0m\u001b[0m\n\u001b[0;32m     28\u001b[0m     \u001b[0m_check_contains_na\u001b[0m\u001b[1;33m,\u001b[0m\u001b[1;33m\u001b[0m\u001b[1;33m\u001b[0m\u001b[0m\n",
      "\u001b[1;32m~\\anaconda3\\lib\\site-packages\\feature_engine\\dataframe_checks.py\u001b[0m in \u001b[0;36m<module>\u001b[1;34m\u001b[0m\n\u001b[0;32m      8\u001b[0m \u001b[1;32mimport\u001b[0m \u001b[0mpandas\u001b[0m \u001b[1;32mas\u001b[0m \u001b[0mpd\u001b[0m\u001b[1;33m\u001b[0m\u001b[1;33m\u001b[0m\u001b[0m\n\u001b[0;32m      9\u001b[0m \u001b[1;32mfrom\u001b[0m \u001b[0mscipy\u001b[0m\u001b[1;33m.\u001b[0m\u001b[0msparse\u001b[0m \u001b[1;32mimport\u001b[0m \u001b[0missparse\u001b[0m\u001b[1;33m\u001b[0m\u001b[1;33m\u001b[0m\u001b[0m\n\u001b[1;32m---> 10\u001b[1;33m \u001b[1;32mfrom\u001b[0m \u001b[0msklearn\u001b[0m\u001b[1;33m.\u001b[0m\u001b[0mutils\u001b[0m\u001b[1;33m.\u001b[0m\u001b[0mvalidation\u001b[0m \u001b[1;32mimport\u001b[0m \u001b[0m_check_y\u001b[0m\u001b[1;33m,\u001b[0m \u001b[0mcheck_consistent_length\u001b[0m\u001b[1;33m\u001b[0m\u001b[1;33m\u001b[0m\u001b[0m\n\u001b[0m\u001b[0;32m     11\u001b[0m \u001b[1;33m\u001b[0m\u001b[0m\n\u001b[0;32m     12\u001b[0m \u001b[1;33m\u001b[0m\u001b[0m\n",
      "\u001b[1;31mImportError\u001b[0m: cannot import name '_check_y' from 'sklearn.utils.validation' (C:\\Users\\Danilo\\anaconda3\\lib\\site-packages\\sklearn\\utils\\validation.py)"
     ]
    }
   ],
   "source": [
    "import pandas as pd\n",
    "import numpy as np\n",
    "import seaborn as sns\n",
    "import pandas_profiling\n",
    "from sklearn.impute import KNNImputer\n",
    "from feature_engine.outliers import outlierTrimmer"
   ]
  },
  {
   "cell_type": "code",
   "execution_count": null,
   "id": "98d52326",
   "metadata": {},
   "outputs": [],
   "source": [
    "#Upload the database and adding a header"
   ]
  },
  {
   "cell_type": "code",
   "execution_count": null,
   "id": "aeeb5416",
   "metadata": {},
   "outputs": [],
   "source": [
    "headerlist = ['Gender', 'Age', 'Debt', 'Married', 'BankCustomer', 'EducationalLevel', 'Etnhicity', 'YearsEmployed', 'Priordefault', 'Employed', 'CreditScore', 'DriversLicense', 'Citizen', 'Zipcode', 'Income', 'Approved']"
   ]
  },
  {
   "cell_type": "code",
   "execution_count": null,
   "id": "6993578d",
   "metadata": {},
   "outputs": [],
   "source": [
    "file = pd.read_csv('C:/Users/Danilo/OneDrive - MS365/FIA/Pós Data Science/Credit_card_approval/database/crx.data', header =None)"
   ]
  },
  {
   "cell_type": "code",
   "execution_count": null,
   "id": "912c6ea8",
   "metadata": {},
   "outputs": [],
   "source": [
    "file.to_csv('data_abt.csv', header = headerlist, index=True)"
   ]
  },
  {
   "cell_type": "code",
   "execution_count": null,
   "id": "0071f74d",
   "metadata": {},
   "outputs": [],
   "source": [
    "#EDA"
   ]
  },
  {
   "cell_type": "code",
   "execution_count": null,
   "id": "0aaf319a",
   "metadata": {},
   "outputs": [],
   "source": [
    "data_abt = pd.read_csv(\"data_abt.csv\")"
   ]
  },
  {
   "cell_type": "code",
   "execution_count": null,
   "id": "8b14643d",
   "metadata": {},
   "outputs": [],
   "source": [
    "data_abt.head()"
   ]
  },
  {
   "cell_type": "code",
   "execution_count": null,
   "id": "1e5261ab",
   "metadata": {},
   "outputs": [],
   "source": [
    "data_abt.rename(columns={'Unnamed': 'ID'}, inplace = True)"
   ]
  },
  {
   "cell_type": "code",
   "execution_count": null,
   "id": "4c9d37f5",
   "metadata": {},
   "outputs": [],
   "source": [
    "data_abt.head()"
   ]
  },
  {
   "cell_type": "code",
   "execution_count": null,
   "id": "8bdc6a4b",
   "metadata": {},
   "outputs": [],
   "source": [
    "data_abt.describe()"
   ]
  },
  {
   "cell_type": "code",
   "execution_count": null,
   "id": "ad35f692",
   "metadata": {},
   "outputs": [],
   "source": [
    "pandas_profiling.ProfileReport(data_abt)"
   ]
  },
  {
   "cell_type": "code",
   "execution_count": null,
   "id": "fa0f8770",
   "metadata": {},
   "outputs": [],
   "source": [
    "print(data_abt.nunique())"
   ]
  },
  {
   "cell_type": "code",
   "execution_count": null,
   "id": "e6f5ab1a",
   "metadata": {},
   "outputs": [],
   "source": [
    "data_abt.isnull().sum()"
   ]
  },
  {
   "cell_type": "code",
   "execution_count": null,
   "id": "1661ee79",
   "metadata": {},
   "outputs": [],
   "source": [
    "#Replacing + to 1 and - to 0"
   ]
  },
  {
   "cell_type": "code",
   "execution_count": null,
   "id": "6daa6dce",
   "metadata": {},
   "outputs": [],
   "source": [
    "data_abt['Approved'] = data_abt['Approved'].replace(['+'],'1')"
   ]
  },
  {
   "cell_type": "code",
   "execution_count": null,
   "id": "ab29d844",
   "metadata": {},
   "outputs": [],
   "source": [
    "data_abt['Approved'] = data_abt['Approved'].replace(['-'],'0')"
   ]
  },
  {
   "cell_type": "code",
   "execution_count": null,
   "id": "09302564",
   "metadata": {},
   "outputs": [],
   "source": [
    "data_abt.head()"
   ]
  },
  {
   "cell_type": "code",
   "execution_count": null,
   "id": "1ead7bd6",
   "metadata": {},
   "outputs": [],
   "source": [
    "data_abt.Gender.value_counts()"
   ]
  },
  {
   "cell_type": "code",
   "execution_count": null,
   "id": "634731a3",
   "metadata": {},
   "outputs": [],
   "source": [
    "data_abt.Married.value_counts()"
   ]
  },
  {
   "cell_type": "code",
   "execution_count": null,
   "id": "d2335fd9",
   "metadata": {},
   "outputs": [],
   "source": [
    "data_abt.BankCustomer.value_counts()"
   ]
  },
  {
   "cell_type": "code",
   "execution_count": null,
   "id": "79511b69",
   "metadata": {},
   "outputs": [],
   "source": [
    "data_abt.EducationalLevel.value_counts()"
   ]
  },
  {
   "cell_type": "code",
   "execution_count": null,
   "id": "c8627d44",
   "metadata": {},
   "outputs": [],
   "source": [
    "data_abt.Etnhicity.value_counts()"
   ]
  },
  {
   "cell_type": "code",
   "execution_count": null,
   "id": "08f0f425",
   "metadata": {},
   "outputs": [],
   "source": [
    "data_abt.Priordefault.value_counts()"
   ]
  },
  {
   "cell_type": "code",
   "execution_count": null,
   "id": "33ed27dd",
   "metadata": {},
   "outputs": [],
   "source": [
    "data_abt.Employed.value_counts()"
   ]
  },
  {
   "cell_type": "code",
   "execution_count": null,
   "id": "1dee0600",
   "metadata": {},
   "outputs": [],
   "source": [
    "data_abt.DriversLicense.value_counts()"
   ]
  },
  {
   "cell_type": "code",
   "execution_count": null,
   "id": "791391f5",
   "metadata": {},
   "outputs": [],
   "source": [
    "data_abt.Approved.value_counts()"
   ]
  },
  {
   "cell_type": "code",
   "execution_count": null,
   "id": "c62be5da",
   "metadata": {},
   "outputs": [],
   "source": [
    "data_abt.info()"
   ]
  },
  {
   "cell_type": "code",
   "execution_count": null,
   "id": "524d3be9",
   "metadata": {},
   "outputs": [],
   "source": [
    "data_abt.replace('?', np.nan, inplace=True)"
   ]
  },
  {
   "cell_type": "code",
   "execution_count": null,
   "id": "bcbf72ed",
   "metadata": {},
   "outputs": [],
   "source": [
    "data_abt['Age']= data_abt['Age'].astype(float, errors = 'raise')"
   ]
  },
  {
   "cell_type": "code",
   "execution_count": null,
   "id": "a515af8a",
   "metadata": {},
   "outputs": [],
   "source": [
    "data_abt.info()"
   ]
  },
  {
   "cell_type": "code",
   "execution_count": null,
   "id": "332fb86a",
   "metadata": {},
   "outputs": [],
   "source": [
    "for col in data_abt.columns:\n",
    "    print(col)"
   ]
  },
  {
   "cell_type": "code",
   "execution_count": null,
   "id": "6c168238",
   "metadata": {},
   "outputs": [],
   "source": [
    "data_abt['BankCustomer'].isnull().sum()"
   ]
  },
  {
   "cell_type": "code",
   "execution_count": null,
   "id": "a160735f",
   "metadata": {},
   "outputs": [],
   "source": [
    "data_abt['Etnhicity'].isnull().sum()"
   ]
  },
  {
   "cell_type": "code",
   "execution_count": null,
   "id": "c7237227",
   "metadata": {},
   "outputs": [],
   "source": [
    "data_abt['EducationalLevel'].isnull().sum()"
   ]
  },
  {
   "cell_type": "code",
   "execution_count": null,
   "id": "58d6c6d9",
   "metadata": {},
   "outputs": [],
   "source": [
    "data_abt['Married'].isnull().sum()"
   ]
  },
  {
   "cell_type": "code",
   "execution_count": null,
   "id": "a8d59262",
   "metadata": {},
   "outputs": [],
   "source": [
    "data_abt['Gender'].isnull().sum()"
   ]
  },
  {
   "cell_type": "code",
   "execution_count": null,
   "id": "18e2cdb5",
   "metadata": {},
   "outputs": [],
   "source": [
    "#Tratando valores vazios "
   ]
  },
  {
   "cell_type": "code",
   "execution_count": null,
   "id": "ff727ebc",
   "metadata": {},
   "outputs": [],
   "source": [
    "data_abt = data_abt.fillna({'Gender' : 'b'})"
   ]
  },
  {
   "cell_type": "code",
   "execution_count": null,
   "id": "a2ea98c5",
   "metadata": {},
   "outputs": [],
   "source": [
    "data_abt.Gender.value_counts()"
   ]
  },
  {
   "cell_type": "code",
   "execution_count": null,
   "id": "a40002a3",
   "metadata": {},
   "outputs": [],
   "source": [
    "data_abt = data_abt.fillna({'Married' : 'u'})"
   ]
  },
  {
   "cell_type": "code",
   "execution_count": null,
   "id": "f3b47af7",
   "metadata": {},
   "outputs": [],
   "source": [
    "data_abt = data_abt.fillna({'BankCustomer' : 'g'})"
   ]
  },
  {
   "cell_type": "code",
   "execution_count": null,
   "id": "4ba22343",
   "metadata": {},
   "outputs": [],
   "source": [
    "data_abt = data_abt.fillna({'EducationalLevel' : 'c'})"
   ]
  },
  {
   "cell_type": "code",
   "execution_count": null,
   "id": "aa3e2fa4",
   "metadata": {},
   "outputs": [],
   "source": [
    "data_abt = data_abt.fillna({'Etnhicity' : 'v'})"
   ]
  },
  {
   "cell_type": "code",
   "execution_count": null,
   "id": "09e6827f",
   "metadata": {},
   "outputs": [],
   "source": [
    "data_abt.info()"
   ]
  },
  {
   "cell_type": "code",
   "execution_count": null,
   "id": "358617e8",
   "metadata": {},
   "outputs": [],
   "source": [
    "data_abt['Zipcode'].isnull().sum()"
   ]
  },
  {
   "cell_type": "code",
   "execution_count": 5,
   "id": "db43c420",
   "metadata": {},
   "outputs": [
    {
     "ename": "NameError",
     "evalue": "name 'data_abt' is not defined",
     "output_type": "error",
     "traceback": [
      "\u001b[1;31m---------------------------------------------------------------------------\u001b[0m",
      "\u001b[1;31mNameError\u001b[0m                                 Traceback (most recent call last)",
      "\u001b[1;32m~\\AppData\\Local\\Temp/ipykernel_6368/3724618929.py\u001b[0m in \u001b[0;36m<module>\u001b[1;34m\u001b[0m\n\u001b[1;32m----> 1\u001b[1;33m \u001b[0mdata_abt\u001b[0m\u001b[1;33m[\u001b[0m\u001b[1;34m'Age'\u001b[0m\u001b[1;33m]\u001b[0m\u001b[1;33m.\u001b[0m\u001b[0misnull\u001b[0m\u001b[1;33m(\u001b[0m\u001b[1;33m)\u001b[0m\u001b[1;33m.\u001b[0m\u001b[0msum\u001b[0m\u001b[1;33m(\u001b[0m\u001b[1;33m)\u001b[0m\u001b[1;33m\u001b[0m\u001b[1;33m\u001b[0m\u001b[0m\n\u001b[0m",
      "\u001b[1;31mNameError\u001b[0m: name 'data_abt' is not defined"
     ]
    }
   ],
   "source": [
    "data_abt['Age'].isnull().sum()"
   ]
  },
  {
   "cell_type": "code",
   "execution_count": null,
   "id": "04cc0c25",
   "metadata": {},
   "outputs": [],
   "source": [
    "data_abt = data_abt.fillna({'Zipcode' : 0})"
   ]
  },
  {
   "cell_type": "code",
   "execution_count": null,
   "id": "727e589e",
   "metadata": {},
   "outputs": [],
   "source": [
    "sns.histplot(data= data_abt, x = \"Age\", bins = 20 , color = 'green', element = 'step' )"
   ]
  },
  {
   "cell_type": "code",
   "execution_count": null,
   "id": "b4234637",
   "metadata": {},
   "outputs": [],
   "source": [
    "age_median = data_abt.Age.median()\n",
    "age_median"
   ]
  },
  {
   "cell_type": "code",
   "execution_count": null,
   "id": "9bccf5ea",
   "metadata": {},
   "outputs": [],
   "source": [
    "data_abt['Age'].fillna(age_median, inplace=True)"
   ]
  },
  {
   "cell_type": "code",
   "execution_count": null,
   "id": "ac4c0dc3",
   "metadata": {},
   "outputs": [],
   "source": [
    "data_abt['Age'].isnull().sum()"
   ]
  },
  {
   "cell_type": "code",
   "execution_count": null,
   "id": "b78f53ae",
   "metadata": {},
   "outputs": [],
   "source": [
    "data_abt.Age.value_counts()"
   ]
  },
  {
   "cell_type": "code",
   "execution_count": null,
   "id": "759e3032",
   "metadata": {},
   "outputs": [],
   "source": [
    "data_abt.info()"
   ]
  },
  {
   "cell_type": "code",
   "execution_count": null,
   "id": "f5151697",
   "metadata": {},
   "outputs": [],
   "source": [
    "def maiorq(num=None, lista=None):\n",
    "    return sum( n > num for n in lista)"
   ]
  },
  {
   "cell_type": "code",
   "execution_count": null,
   "id": "79f7c666",
   "metadata": {},
   "outputs": [],
   "source": [
    "sns.boxplot(x = data_abt['Age'])"
   ]
  },
  {
   "cell_type": "code",
   "execution_count": null,
   "id": "ff777966",
   "metadata": {},
   "outputs": [],
   "source": [
    "maiorq(num=60, lista=data_abt['Age'])"
   ]
  },
  {
   "cell_type": "code",
   "execution_count": null,
   "id": "6add79cd",
   "metadata": {},
   "outputs": [],
   "source": [
    "sns.boxplot(x = data_abt['Debt'])"
   ]
  },
  {
   "cell_type": "code",
   "execution_count": null,
   "id": "7646c2de",
   "metadata": {},
   "outputs": [],
   "source": [
    "maiorq(num=16, lista=data_abt['Debt'])"
   ]
  },
  {
   "cell_type": "code",
   "execution_count": null,
   "id": "389c48bf",
   "metadata": {},
   "outputs": [],
   "source": [
    "sns.boxplot(x = data_abt['YearsEmployed'])"
   ]
  },
  {
   "cell_type": "code",
   "execution_count": null,
   "id": "43068a8b",
   "metadata": {},
   "outputs": [],
   "source": [
    "maiorq(num=6, lista=data_abt['YearsEmployed'])"
   ]
  },
  {
   "cell_type": "code",
   "execution_count": null,
   "id": "a110e364",
   "metadata": {},
   "outputs": [],
   "source": [
    "sns.boxplot(x = data_abt['CreditScore'])"
   ]
  },
  {
   "cell_type": "code",
   "execution_count": null,
   "id": "fa2f0362",
   "metadata": {},
   "outputs": [],
   "source": [
    "maiorq(num=9, lista=data_abt['CreditScore'])"
   ]
  },
  {
   "cell_type": "code",
   "execution_count": null,
   "id": "ca731f79",
   "metadata": {},
   "outputs": [],
   "source": [
    "sns.boxplot(x = data_abt['Income'])"
   ]
  },
  {
   "cell_type": "code",
   "execution_count": null,
   "id": "64d935bd",
   "metadata": {},
   "outputs": [],
   "source": [
    "maiorq(num=988, lista=data_abt['Income'])"
   ]
  },
  {
   "cell_type": "code",
   "execution_count": null,
   "id": "9a0ffdc7",
   "metadata": {},
   "outputs": [],
   "source": [
    "#Como existe uma grande quantidade de outliers, principalmente na coluna income vamos inicialmente substituílos pelo valor médio da coluna e verificar a acurácia do modelo. Caso seja necessário iremos aplicar diferentes tratamentos neste ponto."
   ]
  },
  {
   "cell_type": "code",
   "execution_count": null,
   "id": "c354871a",
   "metadata": {},
   "outputs": [],
   "source": [
    "#Verificando a distribuição de cada coluna tipo numérica para encontrar o melhor método de substituição para os outliers"
   ]
  },
  {
   "cell_type": "code",
   "execution_count": null,
   "id": "c7a58cf2",
   "metadata": {},
   "outputs": [],
   "source": [
    "sns.histplot(data= data_abt, x = \"Age\", bins = 20 , color = 'green', element = 'step' )"
   ]
  },
  {
   "cell_type": "code",
   "execution_count": null,
   "id": "c382ed8f",
   "metadata": {},
   "outputs": [],
   "source": [
    "sns.histplot(data= data_abt, x = \"Debt\", bins = 20 , color = 'grey', element = 'step' )"
   ]
  },
  {
   "cell_type": "code",
   "execution_count": null,
   "id": "dc001de2",
   "metadata": {},
   "outputs": [],
   "source": [
    "sns.histplot(data= data_abt, x = \"YearsEmployed\", bins = 20 , color = 'blue', element = 'step' )"
   ]
  },
  {
   "cell_type": "code",
   "execution_count": null,
   "id": "79bae2f0",
   "metadata": {},
   "outputs": [],
   "source": [
    "sns.histplot(data= data_abt, x = \"CreditScore\", bins = 20 , color = 'red', element = 'step' )"
   ]
  },
  {
   "cell_type": "code",
   "execution_count": null,
   "id": "670b2053",
   "metadata": {},
   "outputs": [],
   "source": [
    "sns.histplot(data= data_abt, x = \"Income\", bins = 20 , color = 'orange', element = 'step' )"
   ]
  },
  {
   "cell_type": "code",
   "execution_count": null,
   "id": "868435b4",
   "metadata": {},
   "outputs": [],
   "source": [
    "#Como os gráficos mostram assimetria a direita em todos os casos utilizaremos como substituição de outliers a mediana"
   ]
  },
  {
   "cell_type": "code",
   "execution_count": 780,
   "id": "8d9d7edf",
   "metadata": {},
   "outputs": [],
   "source": []
  },
  {
   "cell_type": "code",
   "execution_count": null,
   "id": "de325c73",
   "metadata": {},
   "outputs": [],
   "source": []
  }
 ],
 "metadata": {
  "kernelspec": {
   "display_name": "Python 3 (ipykernel)",
   "language": "python",
   "name": "python3"
  },
  "language_info": {
   "codemirror_mode": {
    "name": "ipython",
    "version": 3
   },
   "file_extension": ".py",
   "mimetype": "text/x-python",
   "name": "python",
   "nbconvert_exporter": "python",
   "pygments_lexer": "ipython3",
   "version": "3.9.7"
  }
 },
 "nbformat": 4,
 "nbformat_minor": 5
}
