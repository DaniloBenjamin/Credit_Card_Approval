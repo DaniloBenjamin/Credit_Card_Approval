{
 "cells": [
  {
   "cell_type": "code",
   "execution_count": 510,
   "id": "30a01069",
   "metadata": {},
   "outputs": [],
   "source": [
    "#Project: Predicting Credit Card Approvals"
   ]
  },
  {
   "cell_type": "code",
   "execution_count": 511,
   "id": "a3985a9b",
   "metadata": {},
   "outputs": [],
   "source": [
    "#Importing packages"
   ]
  },
  {
   "cell_type": "code",
   "execution_count": 512,
   "id": "5cc6c132",
   "metadata": {},
   "outputs": [],
   "source": [
    "import pandas as pd\n",
    "import numpy as np\n",
    "import seaborn as sns\n",
    "from sklearn.impute import KNNImputer"
   ]
  },
  {
   "cell_type": "code",
   "execution_count": 513,
   "id": "98d52326",
   "metadata": {},
   "outputs": [],
   "source": [
    "#Upload the database and adding a header"
   ]
  },
  {
   "cell_type": "code",
   "execution_count": 514,
   "id": "aeeb5416",
   "metadata": {},
   "outputs": [],
   "source": [
    "headerlist = ['Gender', 'Age', 'Debt', 'Married', 'BankCustomer', 'EducationalLevel', 'Etnhicity', 'YearsEmployed', 'Priordefault', 'Employed', 'CreditScore', 'DriversLicense', 'Citizen', 'Zipcode', 'Income', 'Approved']"
   ]
  },
  {
   "cell_type": "code",
   "execution_count": 515,
   "id": "6993578d",
   "metadata": {},
   "outputs": [],
   "source": [
    "file = pd.read_csv('C:/Users/Danilo/OneDrive - MS365/FIA/Pós Data Science/Credit_card_approval/database/crx.data', header =None)"
   ]
  },
  {
   "cell_type": "code",
   "execution_count": 516,
   "id": "912c6ea8",
   "metadata": {},
   "outputs": [],
   "source": [
    "file.to_csv('data_abt.csv', header = headerlist, index=False)"
   ]
  },
  {
   "cell_type": "code",
   "execution_count": 517,
   "id": "0071f74d",
   "metadata": {},
   "outputs": [],
   "source": [
    "#EDA"
   ]
  },
  {
   "cell_type": "code",
   "execution_count": 518,
   "id": "0aaf319a",
   "metadata": {},
   "outputs": [],
   "source": [
    "data_abt = pd.read_csv(\"data_abt.csv\")"
   ]
  },
  {
   "cell_type": "code",
   "execution_count": 519,
   "id": "8b14643d",
   "metadata": {},
   "outputs": [
    {
     "data": {
      "text/html": [
       "<div>\n",
       "<style scoped>\n",
       "    .dataframe tbody tr th:only-of-type {\n",
       "        vertical-align: middle;\n",
       "    }\n",
       "\n",
       "    .dataframe tbody tr th {\n",
       "        vertical-align: top;\n",
       "    }\n",
       "\n",
       "    .dataframe thead th {\n",
       "        text-align: right;\n",
       "    }\n",
       "</style>\n",
       "<table border=\"1\" class=\"dataframe\">\n",
       "  <thead>\n",
       "    <tr style=\"text-align: right;\">\n",
       "      <th></th>\n",
       "      <th>Gender</th>\n",
       "      <th>Age</th>\n",
       "      <th>Debt</th>\n",
       "      <th>Married</th>\n",
       "      <th>BankCustomer</th>\n",
       "      <th>EducationalLevel</th>\n",
       "      <th>Etnhicity</th>\n",
       "      <th>YearsEmployed</th>\n",
       "      <th>Priordefault</th>\n",
       "      <th>Employed</th>\n",
       "      <th>CreditScore</th>\n",
       "      <th>DriversLicense</th>\n",
       "      <th>Citizen</th>\n",
       "      <th>Zipcode</th>\n",
       "      <th>Income</th>\n",
       "      <th>Approved</th>\n",
       "    </tr>\n",
       "  </thead>\n",
       "  <tbody>\n",
       "    <tr>\n",
       "      <th>0</th>\n",
       "      <td>b</td>\n",
       "      <td>30.83</td>\n",
       "      <td>0.000</td>\n",
       "      <td>u</td>\n",
       "      <td>g</td>\n",
       "      <td>w</td>\n",
       "      <td>v</td>\n",
       "      <td>1.25</td>\n",
       "      <td>t</td>\n",
       "      <td>t</td>\n",
       "      <td>1</td>\n",
       "      <td>f</td>\n",
       "      <td>g</td>\n",
       "      <td>00202</td>\n",
       "      <td>0</td>\n",
       "      <td>+</td>\n",
       "    </tr>\n",
       "    <tr>\n",
       "      <th>1</th>\n",
       "      <td>a</td>\n",
       "      <td>58.67</td>\n",
       "      <td>4.460</td>\n",
       "      <td>u</td>\n",
       "      <td>g</td>\n",
       "      <td>q</td>\n",
       "      <td>h</td>\n",
       "      <td>3.04</td>\n",
       "      <td>t</td>\n",
       "      <td>t</td>\n",
       "      <td>6</td>\n",
       "      <td>f</td>\n",
       "      <td>g</td>\n",
       "      <td>00043</td>\n",
       "      <td>560</td>\n",
       "      <td>+</td>\n",
       "    </tr>\n",
       "    <tr>\n",
       "      <th>2</th>\n",
       "      <td>a</td>\n",
       "      <td>24.50</td>\n",
       "      <td>0.500</td>\n",
       "      <td>u</td>\n",
       "      <td>g</td>\n",
       "      <td>q</td>\n",
       "      <td>h</td>\n",
       "      <td>1.50</td>\n",
       "      <td>t</td>\n",
       "      <td>f</td>\n",
       "      <td>0</td>\n",
       "      <td>f</td>\n",
       "      <td>g</td>\n",
       "      <td>00280</td>\n",
       "      <td>824</td>\n",
       "      <td>+</td>\n",
       "    </tr>\n",
       "    <tr>\n",
       "      <th>3</th>\n",
       "      <td>b</td>\n",
       "      <td>27.83</td>\n",
       "      <td>1.540</td>\n",
       "      <td>u</td>\n",
       "      <td>g</td>\n",
       "      <td>w</td>\n",
       "      <td>v</td>\n",
       "      <td>3.75</td>\n",
       "      <td>t</td>\n",
       "      <td>t</td>\n",
       "      <td>5</td>\n",
       "      <td>t</td>\n",
       "      <td>g</td>\n",
       "      <td>00100</td>\n",
       "      <td>3</td>\n",
       "      <td>+</td>\n",
       "    </tr>\n",
       "    <tr>\n",
       "      <th>4</th>\n",
       "      <td>b</td>\n",
       "      <td>20.17</td>\n",
       "      <td>5.625</td>\n",
       "      <td>u</td>\n",
       "      <td>g</td>\n",
       "      <td>w</td>\n",
       "      <td>v</td>\n",
       "      <td>1.71</td>\n",
       "      <td>t</td>\n",
       "      <td>f</td>\n",
       "      <td>0</td>\n",
       "      <td>f</td>\n",
       "      <td>s</td>\n",
       "      <td>00120</td>\n",
       "      <td>0</td>\n",
       "      <td>+</td>\n",
       "    </tr>\n",
       "  </tbody>\n",
       "</table>\n",
       "</div>"
      ],
      "text/plain": [
       "  Gender    Age   Debt Married BankCustomer EducationalLevel Etnhicity  \\\n",
       "0      b  30.83  0.000       u            g                w         v   \n",
       "1      a  58.67  4.460       u            g                q         h   \n",
       "2      a  24.50  0.500       u            g                q         h   \n",
       "3      b  27.83  1.540       u            g                w         v   \n",
       "4      b  20.17  5.625       u            g                w         v   \n",
       "\n",
       "   YearsEmployed Priordefault Employed  CreditScore DriversLicense Citizen  \\\n",
       "0           1.25            t        t            1              f       g   \n",
       "1           3.04            t        t            6              f       g   \n",
       "2           1.50            t        f            0              f       g   \n",
       "3           3.75            t        t            5              t       g   \n",
       "4           1.71            t        f            0              f       s   \n",
       "\n",
       "  Zipcode  Income Approved  \n",
       "0   00202       0        +  \n",
       "1   00043     560        +  \n",
       "2   00280     824        +  \n",
       "3   00100       3        +  \n",
       "4   00120       0        +  "
      ]
     },
     "execution_count": 519,
     "metadata": {},
     "output_type": "execute_result"
    }
   ],
   "source": [
    "data_abt.head()"
   ]
  },
  {
   "cell_type": "code",
   "execution_count": 520,
   "id": "8bdc6a4b",
   "metadata": {},
   "outputs": [
    {
     "data": {
      "text/html": [
       "<div>\n",
       "<style scoped>\n",
       "    .dataframe tbody tr th:only-of-type {\n",
       "        vertical-align: middle;\n",
       "    }\n",
       "\n",
       "    .dataframe tbody tr th {\n",
       "        vertical-align: top;\n",
       "    }\n",
       "\n",
       "    .dataframe thead th {\n",
       "        text-align: right;\n",
       "    }\n",
       "</style>\n",
       "<table border=\"1\" class=\"dataframe\">\n",
       "  <thead>\n",
       "    <tr style=\"text-align: right;\">\n",
       "      <th></th>\n",
       "      <th>Debt</th>\n",
       "      <th>YearsEmployed</th>\n",
       "      <th>CreditScore</th>\n",
       "      <th>Income</th>\n",
       "    </tr>\n",
       "  </thead>\n",
       "  <tbody>\n",
       "    <tr>\n",
       "      <th>count</th>\n",
       "      <td>690.000000</td>\n",
       "      <td>690.000000</td>\n",
       "      <td>690.00000</td>\n",
       "      <td>690.000000</td>\n",
       "    </tr>\n",
       "    <tr>\n",
       "      <th>mean</th>\n",
       "      <td>4.758725</td>\n",
       "      <td>2.223406</td>\n",
       "      <td>2.40000</td>\n",
       "      <td>1017.385507</td>\n",
       "    </tr>\n",
       "    <tr>\n",
       "      <th>std</th>\n",
       "      <td>4.978163</td>\n",
       "      <td>3.346513</td>\n",
       "      <td>4.86294</td>\n",
       "      <td>5210.102598</td>\n",
       "    </tr>\n",
       "    <tr>\n",
       "      <th>min</th>\n",
       "      <td>0.000000</td>\n",
       "      <td>0.000000</td>\n",
       "      <td>0.00000</td>\n",
       "      <td>0.000000</td>\n",
       "    </tr>\n",
       "    <tr>\n",
       "      <th>25%</th>\n",
       "      <td>1.000000</td>\n",
       "      <td>0.165000</td>\n",
       "      <td>0.00000</td>\n",
       "      <td>0.000000</td>\n",
       "    </tr>\n",
       "    <tr>\n",
       "      <th>50%</th>\n",
       "      <td>2.750000</td>\n",
       "      <td>1.000000</td>\n",
       "      <td>0.00000</td>\n",
       "      <td>5.000000</td>\n",
       "    </tr>\n",
       "    <tr>\n",
       "      <th>75%</th>\n",
       "      <td>7.207500</td>\n",
       "      <td>2.625000</td>\n",
       "      <td>3.00000</td>\n",
       "      <td>395.500000</td>\n",
       "    </tr>\n",
       "    <tr>\n",
       "      <th>max</th>\n",
       "      <td>28.000000</td>\n",
       "      <td>28.500000</td>\n",
       "      <td>67.00000</td>\n",
       "      <td>100000.000000</td>\n",
       "    </tr>\n",
       "  </tbody>\n",
       "</table>\n",
       "</div>"
      ],
      "text/plain": [
       "             Debt  YearsEmployed  CreditScore         Income\n",
       "count  690.000000     690.000000    690.00000     690.000000\n",
       "mean     4.758725       2.223406      2.40000    1017.385507\n",
       "std      4.978163       3.346513      4.86294    5210.102598\n",
       "min      0.000000       0.000000      0.00000       0.000000\n",
       "25%      1.000000       0.165000      0.00000       0.000000\n",
       "50%      2.750000       1.000000      0.00000       5.000000\n",
       "75%      7.207500       2.625000      3.00000     395.500000\n",
       "max     28.000000      28.500000     67.00000  100000.000000"
      ]
     },
     "execution_count": 520,
     "metadata": {},
     "output_type": "execute_result"
    }
   ],
   "source": [
    "data_abt.describe()"
   ]
  },
  {
   "cell_type": "code",
   "execution_count": 521,
   "id": "fa0f8770",
   "metadata": {},
   "outputs": [
    {
     "name": "stdout",
     "output_type": "stream",
     "text": [
      "Gender                3\n",
      "Age                 350\n",
      "Debt                215\n",
      "Married               4\n",
      "BankCustomer          4\n",
      "EducationalLevel     15\n",
      "Etnhicity            10\n",
      "YearsEmployed       132\n",
      "Priordefault          2\n",
      "Employed              2\n",
      "CreditScore          23\n",
      "DriversLicense        2\n",
      "Citizen               3\n",
      "Zipcode             171\n",
      "Income              240\n",
      "Approved              2\n",
      "dtype: int64\n"
     ]
    }
   ],
   "source": [
    "print(data_abt.nunique())"
   ]
  },
  {
   "cell_type": "code",
   "execution_count": 522,
   "id": "e6f5ab1a",
   "metadata": {},
   "outputs": [
    {
     "data": {
      "text/plain": [
       "Gender              0\n",
       "Age                 0\n",
       "Debt                0\n",
       "Married             0\n",
       "BankCustomer        0\n",
       "EducationalLevel    0\n",
       "Etnhicity           0\n",
       "YearsEmployed       0\n",
       "Priordefault        0\n",
       "Employed            0\n",
       "CreditScore         0\n",
       "DriversLicense      0\n",
       "Citizen             0\n",
       "Zipcode             0\n",
       "Income              0\n",
       "Approved            0\n",
       "dtype: int64"
      ]
     },
     "execution_count": 522,
     "metadata": {},
     "output_type": "execute_result"
    }
   ],
   "source": [
    "data_abt.isnull().sum()"
   ]
  },
  {
   "cell_type": "code",
   "execution_count": 523,
   "id": "1661ee79",
   "metadata": {},
   "outputs": [],
   "source": [
    "#Replacing + to 1 and - to 0"
   ]
  },
  {
   "cell_type": "code",
   "execution_count": 524,
   "id": "6daa6dce",
   "metadata": {},
   "outputs": [],
   "source": [
    "data_abt['Approved'] = data_abt['Approved'].replace(['+'],'1')"
   ]
  },
  {
   "cell_type": "code",
   "execution_count": 525,
   "id": "ab29d844",
   "metadata": {},
   "outputs": [],
   "source": [
    "data_abt['Approved'] = data_abt['Approved'].replace(['-'],'0')"
   ]
  },
  {
   "cell_type": "code",
   "execution_count": 526,
   "id": "09302564",
   "metadata": {},
   "outputs": [
    {
     "data": {
      "text/html": [
       "<div>\n",
       "<style scoped>\n",
       "    .dataframe tbody tr th:only-of-type {\n",
       "        vertical-align: middle;\n",
       "    }\n",
       "\n",
       "    .dataframe tbody tr th {\n",
       "        vertical-align: top;\n",
       "    }\n",
       "\n",
       "    .dataframe thead th {\n",
       "        text-align: right;\n",
       "    }\n",
       "</style>\n",
       "<table border=\"1\" class=\"dataframe\">\n",
       "  <thead>\n",
       "    <tr style=\"text-align: right;\">\n",
       "      <th></th>\n",
       "      <th>Gender</th>\n",
       "      <th>Age</th>\n",
       "      <th>Debt</th>\n",
       "      <th>Married</th>\n",
       "      <th>BankCustomer</th>\n",
       "      <th>EducationalLevel</th>\n",
       "      <th>Etnhicity</th>\n",
       "      <th>YearsEmployed</th>\n",
       "      <th>Priordefault</th>\n",
       "      <th>Employed</th>\n",
       "      <th>CreditScore</th>\n",
       "      <th>DriversLicense</th>\n",
       "      <th>Citizen</th>\n",
       "      <th>Zipcode</th>\n",
       "      <th>Income</th>\n",
       "      <th>Approved</th>\n",
       "    </tr>\n",
       "  </thead>\n",
       "  <tbody>\n",
       "    <tr>\n",
       "      <th>0</th>\n",
       "      <td>b</td>\n",
       "      <td>30.83</td>\n",
       "      <td>0.000</td>\n",
       "      <td>u</td>\n",
       "      <td>g</td>\n",
       "      <td>w</td>\n",
       "      <td>v</td>\n",
       "      <td>1.25</td>\n",
       "      <td>t</td>\n",
       "      <td>t</td>\n",
       "      <td>1</td>\n",
       "      <td>f</td>\n",
       "      <td>g</td>\n",
       "      <td>00202</td>\n",
       "      <td>0</td>\n",
       "      <td>1</td>\n",
       "    </tr>\n",
       "    <tr>\n",
       "      <th>1</th>\n",
       "      <td>a</td>\n",
       "      <td>58.67</td>\n",
       "      <td>4.460</td>\n",
       "      <td>u</td>\n",
       "      <td>g</td>\n",
       "      <td>q</td>\n",
       "      <td>h</td>\n",
       "      <td>3.04</td>\n",
       "      <td>t</td>\n",
       "      <td>t</td>\n",
       "      <td>6</td>\n",
       "      <td>f</td>\n",
       "      <td>g</td>\n",
       "      <td>00043</td>\n",
       "      <td>560</td>\n",
       "      <td>1</td>\n",
       "    </tr>\n",
       "    <tr>\n",
       "      <th>2</th>\n",
       "      <td>a</td>\n",
       "      <td>24.50</td>\n",
       "      <td>0.500</td>\n",
       "      <td>u</td>\n",
       "      <td>g</td>\n",
       "      <td>q</td>\n",
       "      <td>h</td>\n",
       "      <td>1.50</td>\n",
       "      <td>t</td>\n",
       "      <td>f</td>\n",
       "      <td>0</td>\n",
       "      <td>f</td>\n",
       "      <td>g</td>\n",
       "      <td>00280</td>\n",
       "      <td>824</td>\n",
       "      <td>1</td>\n",
       "    </tr>\n",
       "    <tr>\n",
       "      <th>3</th>\n",
       "      <td>b</td>\n",
       "      <td>27.83</td>\n",
       "      <td>1.540</td>\n",
       "      <td>u</td>\n",
       "      <td>g</td>\n",
       "      <td>w</td>\n",
       "      <td>v</td>\n",
       "      <td>3.75</td>\n",
       "      <td>t</td>\n",
       "      <td>t</td>\n",
       "      <td>5</td>\n",
       "      <td>t</td>\n",
       "      <td>g</td>\n",
       "      <td>00100</td>\n",
       "      <td>3</td>\n",
       "      <td>1</td>\n",
       "    </tr>\n",
       "    <tr>\n",
       "      <th>4</th>\n",
       "      <td>b</td>\n",
       "      <td>20.17</td>\n",
       "      <td>5.625</td>\n",
       "      <td>u</td>\n",
       "      <td>g</td>\n",
       "      <td>w</td>\n",
       "      <td>v</td>\n",
       "      <td>1.71</td>\n",
       "      <td>t</td>\n",
       "      <td>f</td>\n",
       "      <td>0</td>\n",
       "      <td>f</td>\n",
       "      <td>s</td>\n",
       "      <td>00120</td>\n",
       "      <td>0</td>\n",
       "      <td>1</td>\n",
       "    </tr>\n",
       "  </tbody>\n",
       "</table>\n",
       "</div>"
      ],
      "text/plain": [
       "  Gender    Age   Debt Married BankCustomer EducationalLevel Etnhicity  \\\n",
       "0      b  30.83  0.000       u            g                w         v   \n",
       "1      a  58.67  4.460       u            g                q         h   \n",
       "2      a  24.50  0.500       u            g                q         h   \n",
       "3      b  27.83  1.540       u            g                w         v   \n",
       "4      b  20.17  5.625       u            g                w         v   \n",
       "\n",
       "   YearsEmployed Priordefault Employed  CreditScore DriversLicense Citizen  \\\n",
       "0           1.25            t        t            1              f       g   \n",
       "1           3.04            t        t            6              f       g   \n",
       "2           1.50            t        f            0              f       g   \n",
       "3           3.75            t        t            5              t       g   \n",
       "4           1.71            t        f            0              f       s   \n",
       "\n",
       "  Zipcode  Income Approved  \n",
       "0   00202       0        1  \n",
       "1   00043     560        1  \n",
       "2   00280     824        1  \n",
       "3   00100       3        1  \n",
       "4   00120       0        1  "
      ]
     },
     "execution_count": 526,
     "metadata": {},
     "output_type": "execute_result"
    }
   ],
   "source": [
    "data_abt.head()"
   ]
  },
  {
   "cell_type": "code",
   "execution_count": 527,
   "id": "1ead7bd6",
   "metadata": {},
   "outputs": [
    {
     "data": {
      "text/plain": [
       "b    468\n",
       "a    210\n",
       "?     12\n",
       "Name: Gender, dtype: int64"
      ]
     },
     "execution_count": 527,
     "metadata": {},
     "output_type": "execute_result"
    }
   ],
   "source": [
    "data_abt.Gender.value_counts()"
   ]
  },
  {
   "cell_type": "code",
   "execution_count": 528,
   "id": "634731a3",
   "metadata": {},
   "outputs": [
    {
     "data": {
      "text/plain": [
       "u    519\n",
       "y    163\n",
       "?      6\n",
       "l      2\n",
       "Name: Married, dtype: int64"
      ]
     },
     "execution_count": 528,
     "metadata": {},
     "output_type": "execute_result"
    }
   ],
   "source": [
    "data_abt.Married.value_counts()"
   ]
  },
  {
   "cell_type": "code",
   "execution_count": 529,
   "id": "d2335fd9",
   "metadata": {},
   "outputs": [
    {
     "data": {
      "text/plain": [
       "g     519\n",
       "p     163\n",
       "?       6\n",
       "gg      2\n",
       "Name: BankCustomer, dtype: int64"
      ]
     },
     "execution_count": 529,
     "metadata": {},
     "output_type": "execute_result"
    }
   ],
   "source": [
    "data_abt.BankCustomer.value_counts()"
   ]
  },
  {
   "cell_type": "code",
   "execution_count": 530,
   "id": "79511b69",
   "metadata": {},
   "outputs": [
    {
     "data": {
      "text/plain": [
       "c     137\n",
       "q      78\n",
       "w      64\n",
       "i      59\n",
       "aa     54\n",
       "ff     53\n",
       "k      51\n",
       "cc     41\n",
       "m      38\n",
       "x      38\n",
       "d      30\n",
       "e      25\n",
       "j      10\n",
       "?       9\n",
       "r       3\n",
       "Name: EducationalLevel, dtype: int64"
      ]
     },
     "execution_count": 530,
     "metadata": {},
     "output_type": "execute_result"
    }
   ],
   "source": [
    "data_abt.EducationalLevel.value_counts()"
   ]
  },
  {
   "cell_type": "code",
   "execution_count": 531,
   "id": "c8627d44",
   "metadata": {},
   "outputs": [
    {
     "data": {
      "text/plain": [
       "v     399\n",
       "h     138\n",
       "bb     59\n",
       "ff     57\n",
       "?       9\n",
       "j       8\n",
       "z       8\n",
       "dd      6\n",
       "n       4\n",
       "o       2\n",
       "Name: Etnhicity, dtype: int64"
      ]
     },
     "execution_count": 531,
     "metadata": {},
     "output_type": "execute_result"
    }
   ],
   "source": [
    "data_abt.Etnhicity.value_counts()"
   ]
  },
  {
   "cell_type": "code",
   "execution_count": 532,
   "id": "08f0f425",
   "metadata": {},
   "outputs": [
    {
     "data": {
      "text/plain": [
       "t    361\n",
       "f    329\n",
       "Name: Priordefault, dtype: int64"
      ]
     },
     "execution_count": 532,
     "metadata": {},
     "output_type": "execute_result"
    }
   ],
   "source": [
    "data_abt.Priordefault.value_counts()"
   ]
  },
  {
   "cell_type": "code",
   "execution_count": 533,
   "id": "33ed27dd",
   "metadata": {},
   "outputs": [
    {
     "data": {
      "text/plain": [
       "f    395\n",
       "t    295\n",
       "Name: Employed, dtype: int64"
      ]
     },
     "execution_count": 533,
     "metadata": {},
     "output_type": "execute_result"
    }
   ],
   "source": [
    "data_abt.Employed.value_counts()"
   ]
  },
  {
   "cell_type": "code",
   "execution_count": 534,
   "id": "1dee0600",
   "metadata": {},
   "outputs": [
    {
     "data": {
      "text/plain": [
       "f    374\n",
       "t    316\n",
       "Name: DriversLicense, dtype: int64"
      ]
     },
     "execution_count": 534,
     "metadata": {},
     "output_type": "execute_result"
    }
   ],
   "source": [
    "data_abt.DriversLicense.value_counts()"
   ]
  },
  {
   "cell_type": "code",
   "execution_count": 535,
   "id": "791391f5",
   "metadata": {},
   "outputs": [
    {
     "data": {
      "text/plain": [
       "0    383\n",
       "1    307\n",
       "Name: Approved, dtype: int64"
      ]
     },
     "execution_count": 535,
     "metadata": {},
     "output_type": "execute_result"
    }
   ],
   "source": [
    "data_abt.Approved.value_counts()"
   ]
  },
  {
   "cell_type": "code",
   "execution_count": 536,
   "id": "c62be5da",
   "metadata": {},
   "outputs": [
    {
     "name": "stdout",
     "output_type": "stream",
     "text": [
      "<class 'pandas.core.frame.DataFrame'>\n",
      "RangeIndex: 690 entries, 0 to 689\n",
      "Data columns (total 16 columns):\n",
      " #   Column            Non-Null Count  Dtype  \n",
      "---  ------            --------------  -----  \n",
      " 0   Gender            690 non-null    object \n",
      " 1   Age               690 non-null    object \n",
      " 2   Debt              690 non-null    float64\n",
      " 3   Married           690 non-null    object \n",
      " 4   BankCustomer      690 non-null    object \n",
      " 5   EducationalLevel  690 non-null    object \n",
      " 6   Etnhicity         690 non-null    object \n",
      " 7   YearsEmployed     690 non-null    float64\n",
      " 8   Priordefault      690 non-null    object \n",
      " 9   Employed          690 non-null    object \n",
      " 10  CreditScore       690 non-null    int64  \n",
      " 11  DriversLicense    690 non-null    object \n",
      " 12  Citizen           690 non-null    object \n",
      " 13  Zipcode           690 non-null    object \n",
      " 14  Income            690 non-null    int64  \n",
      " 15  Approved          690 non-null    object \n",
      "dtypes: float64(2), int64(2), object(12)\n",
      "memory usage: 86.4+ KB\n"
     ]
    }
   ],
   "source": [
    "data_abt.info()"
   ]
  },
  {
   "cell_type": "code",
   "execution_count": 537,
   "id": "524d3be9",
   "metadata": {},
   "outputs": [],
   "source": [
    "data_abt.replace('?', np.nan, inplace=True)"
   ]
  },
  {
   "cell_type": "code",
   "execution_count": 538,
   "id": "bcbf72ed",
   "metadata": {},
   "outputs": [],
   "source": [
    "data_abt['Age']= data_abt['Age'].astype(float, errors = 'raise')"
   ]
  },
  {
   "cell_type": "code",
   "execution_count": 539,
   "id": "a515af8a",
   "metadata": {},
   "outputs": [
    {
     "name": "stdout",
     "output_type": "stream",
     "text": [
      "<class 'pandas.core.frame.DataFrame'>\n",
      "RangeIndex: 690 entries, 0 to 689\n",
      "Data columns (total 16 columns):\n",
      " #   Column            Non-Null Count  Dtype  \n",
      "---  ------            --------------  -----  \n",
      " 0   Gender            678 non-null    object \n",
      " 1   Age               678 non-null    float64\n",
      " 2   Debt              690 non-null    float64\n",
      " 3   Married           684 non-null    object \n",
      " 4   BankCustomer      684 non-null    object \n",
      " 5   EducationalLevel  681 non-null    object \n",
      " 6   Etnhicity         681 non-null    object \n",
      " 7   YearsEmployed     690 non-null    float64\n",
      " 8   Priordefault      690 non-null    object \n",
      " 9   Employed          690 non-null    object \n",
      " 10  CreditScore       690 non-null    int64  \n",
      " 11  DriversLicense    690 non-null    object \n",
      " 12  Citizen           690 non-null    object \n",
      " 13  Zipcode           677 non-null    object \n",
      " 14  Income            690 non-null    int64  \n",
      " 15  Approved          690 non-null    object \n",
      "dtypes: float64(3), int64(2), object(11)\n",
      "memory usage: 86.4+ KB\n"
     ]
    }
   ],
   "source": [
    "data_abt.info()"
   ]
  },
  {
   "cell_type": "code",
   "execution_count": 540,
   "id": "332fb86a",
   "metadata": {},
   "outputs": [
    {
     "name": "stdout",
     "output_type": "stream",
     "text": [
      "Gender\n",
      "Age\n",
      "Debt\n",
      "Married\n",
      "BankCustomer\n",
      "EducationalLevel\n",
      "Etnhicity\n",
      "YearsEmployed\n",
      "Priordefault\n",
      "Employed\n",
      "CreditScore\n",
      "DriversLicense\n",
      "Citizen\n",
      "Zipcode\n",
      "Income\n",
      "Approved\n"
     ]
    }
   ],
   "source": [
    "for col in data_abt.columns:\n",
    "    print(col)"
   ]
  },
  {
   "cell_type": "code",
   "execution_count": 541,
   "id": "6c168238",
   "metadata": {},
   "outputs": [
    {
     "data": {
      "text/plain": [
       "6"
      ]
     },
     "execution_count": 541,
     "metadata": {},
     "output_type": "execute_result"
    }
   ],
   "source": [
    "data_abt['BankCustomer'].isnull().sum()"
   ]
  },
  {
   "cell_type": "code",
   "execution_count": 542,
   "id": "a160735f",
   "metadata": {},
   "outputs": [
    {
     "data": {
      "text/plain": [
       "9"
      ]
     },
     "execution_count": 542,
     "metadata": {},
     "output_type": "execute_result"
    }
   ],
   "source": [
    "data_abt['Etnhicity'].isnull().sum()"
   ]
  },
  {
   "cell_type": "code",
   "execution_count": 543,
   "id": "c7237227",
   "metadata": {},
   "outputs": [
    {
     "data": {
      "text/plain": [
       "9"
      ]
     },
     "execution_count": 543,
     "metadata": {},
     "output_type": "execute_result"
    }
   ],
   "source": [
    "data_abt['EducationalLevel'].isnull().sum()"
   ]
  },
  {
   "cell_type": "code",
   "execution_count": 544,
   "id": "58d6c6d9",
   "metadata": {},
   "outputs": [
    {
     "data": {
      "text/plain": [
       "6"
      ]
     },
     "execution_count": 544,
     "metadata": {},
     "output_type": "execute_result"
    }
   ],
   "source": [
    "data_abt['Married'].isnull().sum()"
   ]
  },
  {
   "cell_type": "code",
   "execution_count": 545,
   "id": "a8d59262",
   "metadata": {},
   "outputs": [
    {
     "data": {
      "text/plain": [
       "12"
      ]
     },
     "execution_count": 545,
     "metadata": {},
     "output_type": "execute_result"
    }
   ],
   "source": [
    "data_abt['Gender'].isnull().sum()"
   ]
  },
  {
   "cell_type": "code",
   "execution_count": 546,
   "id": "18e2cdb5",
   "metadata": {},
   "outputs": [],
   "source": [
    "#Tratando valores vazios "
   ]
  },
  {
   "cell_type": "code",
   "execution_count": 547,
   "id": "ff727ebc",
   "metadata": {},
   "outputs": [],
   "source": [
    "data_abt = data_abt.fillna({'Gender' : 'b'})"
   ]
  },
  {
   "cell_type": "code",
   "execution_count": 548,
   "id": "a2ea98c5",
   "metadata": {},
   "outputs": [
    {
     "data": {
      "text/plain": [
       "b    480\n",
       "a    210\n",
       "Name: Gender, dtype: int64"
      ]
     },
     "execution_count": 548,
     "metadata": {},
     "output_type": "execute_result"
    }
   ],
   "source": [
    "data_abt.Gender.value_counts()"
   ]
  },
  {
   "cell_type": "code",
   "execution_count": 549,
   "id": "a40002a3",
   "metadata": {},
   "outputs": [],
   "source": [
    "data_abt = data_abt.fillna({'Married' : 'u'})"
   ]
  },
  {
   "cell_type": "code",
   "execution_count": 550,
   "id": "f3b47af7",
   "metadata": {},
   "outputs": [],
   "source": [
    "data_abt = data_abt.fillna({'BankCustomer' : 'g'})"
   ]
  },
  {
   "cell_type": "code",
   "execution_count": 551,
   "id": "4ba22343",
   "metadata": {},
   "outputs": [],
   "source": [
    "data_abt = data_abt.fillna({'EducationalLevel' : 'c'})"
   ]
  },
  {
   "cell_type": "code",
   "execution_count": 552,
   "id": "aa3e2fa4",
   "metadata": {},
   "outputs": [],
   "source": [
    "data_abt = data_abt.fillna({'Etnhicity' : 'v'})"
   ]
  },
  {
   "cell_type": "code",
   "execution_count": 553,
   "id": "09e6827f",
   "metadata": {},
   "outputs": [
    {
     "name": "stdout",
     "output_type": "stream",
     "text": [
      "<class 'pandas.core.frame.DataFrame'>\n",
      "RangeIndex: 690 entries, 0 to 689\n",
      "Data columns (total 16 columns):\n",
      " #   Column            Non-Null Count  Dtype  \n",
      "---  ------            --------------  -----  \n",
      " 0   Gender            690 non-null    object \n",
      " 1   Age               678 non-null    float64\n",
      " 2   Debt              690 non-null    float64\n",
      " 3   Married           690 non-null    object \n",
      " 4   BankCustomer      690 non-null    object \n",
      " 5   EducationalLevel  690 non-null    object \n",
      " 6   Etnhicity         690 non-null    object \n",
      " 7   YearsEmployed     690 non-null    float64\n",
      " 8   Priordefault      690 non-null    object \n",
      " 9   Employed          690 non-null    object \n",
      " 10  CreditScore       690 non-null    int64  \n",
      " 11  DriversLicense    690 non-null    object \n",
      " 12  Citizen           690 non-null    object \n",
      " 13  Zipcode           677 non-null    object \n",
      " 14  Income            690 non-null    int64  \n",
      " 15  Approved          690 non-null    object \n",
      "dtypes: float64(3), int64(2), object(11)\n",
      "memory usage: 86.4+ KB\n"
     ]
    }
   ],
   "source": [
    "data_abt.info()"
   ]
  },
  {
   "cell_type": "code",
   "execution_count": 554,
   "id": "358617e8",
   "metadata": {},
   "outputs": [
    {
     "data": {
      "text/plain": [
       "13"
      ]
     },
     "execution_count": 554,
     "metadata": {},
     "output_type": "execute_result"
    }
   ],
   "source": [
    "data_abt['Zipcode'].isnull().sum()"
   ]
  },
  {
   "cell_type": "code",
   "execution_count": 555,
   "id": "db43c420",
   "metadata": {},
   "outputs": [
    {
     "data": {
      "text/plain": [
       "12"
      ]
     },
     "execution_count": 555,
     "metadata": {},
     "output_type": "execute_result"
    }
   ],
   "source": [
    "data_abt['Age'].isnull().sum()"
   ]
  },
  {
   "cell_type": "code",
   "execution_count": 556,
   "id": "04cc0c25",
   "metadata": {},
   "outputs": [],
   "source": [
    "data_abt = data_abt.fillna({'Zipcode' : 0})"
   ]
  },
  {
   "cell_type": "code",
   "execution_count": 557,
   "id": "727e589e",
   "metadata": {},
   "outputs": [
    {
     "data": {
      "text/plain": [
       "<AxesSubplot:xlabel='Age', ylabel='Count'>"
      ]
     },
     "execution_count": 557,
     "metadata": {},
     "output_type": "execute_result"
    },
    {
     "data": {
      "image/png": "[encoded data removed]",
      "text/plain": [
       "<Figure size 432x288 with 1 Axes>"
      ]
     },
     "metadata": {
      "needs_background": "light"
     },
     "output_type": "display_data"
    }
   ],
   "source": [
    "sns.histplot(data= data_abt, x = \"Age\", bins = 20 , color = 'green', element = 'step' )"
   ]
  },
  {
   "cell_type": "code",
   "execution_count": 558,
   "id": "b4234637",
   "metadata": {},
   "outputs": [
    {
     "data": {
      "text/plain": [
       "28.46"
      ]
     },
     "execution_count": 558,
     "metadata": {},
     "output_type": "execute_result"
    }
   ],
   "source": [
    "age_median = data_abt.Age.median()\n",
    "age_median"
   ]
  },
  {
   "cell_type": "code",
   "execution_count": 559,
   "id": "9bccf5ea",
   "metadata": {},
   "outputs": [],
   "source": [
    "data_abt['Age'].fillna(age_median, inplace=True)"
   ]
  },
  {
   "cell_type": "code",
   "execution_count": 560,
   "id": "ac4c0dc3",
   "metadata": {},
   "outputs": [
    {
     "data": {
      "text/plain": [
       "0"
      ]
     },
     "execution_count": 560,
     "metadata": {},
     "output_type": "execute_result"
    }
   ],
   "source": [
    "data_abt['Age'].isnull().sum()"
   ]
  },
  {
   "cell_type": "code",
   "execution_count": 561,
   "id": "b78f53ae",
   "metadata": {},
   "outputs": [
    {
     "data": {
      "text/plain": [
       "28.46    12\n",
       "22.67     9\n",
       "20.42     7\n",
       "18.83     6\n",
       "24.50     6\n",
       "         ..\n",
       "48.25     1\n",
       "28.33     1\n",
       "18.75     1\n",
       "18.50     1\n",
       "36.42     1\n",
       "Name: Age, Length: 350, dtype: int64"
      ]
     },
     "execution_count": 561,
     "metadata": {},
     "output_type": "execute_result"
    }
   ],
   "source": [
    "data_abt.Age.value_counts()"
   ]
  },
  {
   "cell_type": "code",
   "execution_count": 562,
   "id": "759e3032",
   "metadata": {},
   "outputs": [
    {
     "name": "stdout",
     "output_type": "stream",
     "text": [
      "<class 'pandas.core.frame.DataFrame'>\n",
      "RangeIndex: 690 entries, 0 to 689\n",
      "Data columns (total 16 columns):\n",
      " #   Column            Non-Null Count  Dtype  \n",
      "---  ------            --------------  -----  \n",
      " 0   Gender            690 non-null    object \n",
      " 1   Age               690 non-null    float64\n",
      " 2   Debt              690 non-null    float64\n",
      " 3   Married           690 non-null    object \n",
      " 4   BankCustomer      690 non-null    object \n",
      " 5   EducationalLevel  690 non-null    object \n",
      " 6   Etnhicity         690 non-null    object \n",
      " 7   YearsEmployed     690 non-null    float64\n",
      " 8   Priordefault      690 non-null    object \n",
      " 9   Employed          690 non-null    object \n",
      " 10  CreditScore       690 non-null    int64  \n",
      " 11  DriversLicense    690 non-null    object \n",
      " 12  Citizen           690 non-null    object \n",
      " 13  Zipcode           690 non-null    object \n",
      " 14  Income            690 non-null    int64  \n",
      " 15  Approved          690 non-null    object \n",
      "dtypes: float64(3), int64(2), object(11)\n",
      "memory usage: 86.4+ KB\n"
     ]
    }
   ],
   "source": [
    "data_abt.info()"
   ]
  },
  {
   "cell_type": "code",
   "execution_count": 563,
   "id": "f5151697",
   "metadata": {},
   "outputs": [],
   "source": [
    "def maiorq(num=None, lista=None):\n",
    "    return sum( n > num for n in lista)"
   ]
  },
  {
   "cell_type": "code",
   "execution_count": 564,
   "id": "79f7c666",
   "metadata": {},
   "outputs": [
    {
     "data": {
      "text/plain": [
       "<AxesSubplot:xlabel='Age'>"
      ]
     },
     "execution_count": 564,
     "metadata": {},
     "output_type": "execute_result"
    },
    {
     "data": {
      "image/png": "[encoded data removed]",
      "text/plain": [
       "<Figure size 432x288 with 1 Axes>"
      ]
     },
     "metadata": {
      "needs_background": "light"
     },
     "output_type": "display_data"
    }
   ],
   "source": [
    "sns.boxplot(x = data_abt['Age'])"
   ]
  },
  {
   "cell_type": "code",
   "execution_count": 565,
   "id": "ff777966",
   "metadata": {},
   "outputs": [
    {
     "data": {
      "text/plain": [
       "19"
      ]
     },
     "execution_count": 565,
     "metadata": {},
     "output_type": "execute_result"
    }
   ],
   "source": [
    "maiorq(num=60, lista=data_abt['Age'])"
   ]
  },
  {
   "cell_type": "code",
   "execution_count": 566,
   "id": "6add79cd",
   "metadata": {},
   "outputs": [
    {
     "data": {
      "text/plain": [
       "<AxesSubplot:xlabel='Debt'>"
      ]
     },
     "execution_count": 566,
     "metadata": {},
     "output_type": "execute_result"
    },
    {
     "data": {
      "image/png": "[encoded data removed]",
      "text/plain": [
       "<Figure size 432x288 with 1 Axes>"
      ]
     },
     "metadata": {
      "needs_background": "light"
     },
     "output_type": "display_data"
    }
   ],
   "source": [
    "sns.boxplot(x = data_abt['Debt'])"
   ]
  },
  {
   "cell_type": "code",
   "execution_count": 567,
   "id": "7646c2de",
   "metadata": {},
   "outputs": [
    {
     "data": {
      "text/plain": [
       "20"
      ]
     },
     "execution_count": 567,
     "metadata": {},
     "output_type": "execute_result"
    }
   ],
   "source": [
    "maiorq(num=16, lista=data_abt['Debt'])"
   ]
  },
  {
   "cell_type": "code",
   "execution_count": 568,
   "id": "389c48bf",
   "metadata": {},
   "outputs": [
    {
     "data": {
      "text/plain": [
       "<AxesSubplot:xlabel='YearsEmployed'>"
      ]
     },
     "execution_count": 568,
     "metadata": {},
     "output_type": "execute_result"
    },
    {
     "data": {
      "image/png": "[encoded data removed]",
      "text/plain": [
       "<Figure size 432x288 with 1 Axes>"
      ]
     },
     "metadata": {
      "needs_background": "light"
     },
     "output_type": "display_data"
    }
   ],
   "source": [
    "sns.boxplot(x = data_abt['YearsEmployed'])"
   ]
  },
  {
   "cell_type": "code",
   "execution_count": 569,
   "id": "43068a8b",
   "metadata": {},
   "outputs": [
    {
     "data": {
      "text/plain": [
       "65"
      ]
     },
     "execution_count": 569,
     "metadata": {},
     "output_type": "execute_result"
    }
   ],
   "source": [
    "maiorq(num=6, lista=data_abt['YearsEmployed'])"
   ]
  },
  {
   "cell_type": "code",
   "execution_count": 570,
   "id": "a110e364",
   "metadata": {},
   "outputs": [
    {
     "data": {
      "text/plain": [
       "<AxesSubplot:xlabel='CreditScore'>"
      ]
     },
     "execution_count": 570,
     "metadata": {},
     "output_type": "execute_result"
    },
    {
     "data": {
      "image/png": "[encoded data removed]",
      "text/plain": [
       "<Figure size 432x288 with 1 Axes>"
      ]
     },
     "metadata": {
      "needs_background": "light"
     },
     "output_type": "display_data"
    }
   ],
   "source": [
    "sns.boxplot(x = data_abt['CreditScore'])"
   ]
  },
  {
   "cell_type": "code",
   "execution_count": 571,
   "id": "fa2f0362",
   "metadata": {},
   "outputs": [
    {
     "data": {
      "text/plain": [
       "59"
      ]
     },
     "execution_count": 571,
     "metadata": {},
     "output_type": "execute_result"
    }
   ],
   "source": [
    "maiorq(num=9, lista=data_abt['CreditScore'])"
   ]
  },
  {
   "cell_type": "code",
   "execution_count": 572,
   "id": "ca731f79",
   "metadata": {},
   "outputs": [
    {
     "data": {
      "text/plain": [
       "<AxesSubplot:xlabel='Income'>"
      ]
     },
     "execution_count": 572,
     "metadata": {},
     "output_type": "execute_result"
    },
    {
     "data": {
      "image/png": "[encoded data removed]",
      "text/plain": [
       "<Figure size 432x288 with 1 Axes>"
      ]
     },
     "metadata": {
      "needs_background": "light"
     },
     "output_type": "display_data"
    }
   ],
   "source": [
    "sns.boxplot(x = data_abt['Income'])"
   ]
  },
  {
   "cell_type": "code",
   "execution_count": 573,
   "id": "64d935bd",
   "metadata": {},
   "outputs": [
    {
     "data": {
      "text/plain": [
       "113"
      ]
     },
     "execution_count": 573,
     "metadata": {},
     "output_type": "execute_result"
    }
   ],
   "source": [
    "maiorq(num=988, lista=data_abt['Income'])"
   ]
  },
  {
   "cell_type": "code",
   "execution_count": 574,
   "id": "9a0ffdc7",
   "metadata": {},
   "outputs": [],
   "source": [
    "#Como existe uma grande quantidade de outliers, principalmente na coluna income vamos inicialmente substituílos pelo valor médio da coluna e verificar a acurácia do modelo. Caso seja necessário iremos aplicar diferentes tratamentos neste ponto."
   ]
  },
  {
   "cell_type": "code",
   "execution_count": 575,
   "id": "c354871a",
   "metadata": {},
   "outputs": [],
   "source": [
    "#Verificando a distribuição de cada coluna tipo numérica para encontrar o melhor método de substituição para os outliers"
   ]
  },
  {
   "cell_type": "code",
   "execution_count": 576,
   "id": "c7a58cf2",
   "metadata": {},
   "outputs": [
    {
     "data": {
      "text/plain": [
       "<AxesSubplot:xlabel='Age', ylabel='Count'>"
      ]
     },
     "execution_count": 576,
     "metadata": {},
     "output_type": "execute_result"
    },
    {
     "data": {
      "image/png": "[encoded data removed]",
      "text/plain": [
       "<Figure size 432x288 with 1 Axes>"
      ]
     },
     "metadata": {
      "needs_background": "light"
     },
     "output_type": "display_data"
    }
   ],
   "source": [
    "sns.histplot(data= data_abt, x = \"Age\", bins = 20 , color = 'green', element = 'step' )"
   ]
  },
  {
   "cell_type": "code",
   "execution_count": 577,
   "id": "c382ed8f",
   "metadata": {},
   "outputs": [
    {
     "data": {
      "text/plain": [
       "<AxesSubplot:xlabel='Debt', ylabel='Count'>"
      ]
     },
     "execution_count": 577,
     "metadata": {},
     "output_type": "execute_result"
    },
    {
     "data": {
      "image/png": "[encoded data removed]",
      "text/plain": [
       "<Figure size 432x288 with 1 Axes>"
      ]
     },
     "metadata": {
      "needs_background": "light"
     },
     "output_type": "display_data"
    }
   ],
   "source": [
    "sns.histplot(data= data_abt, x = \"Debt\", bins = 20 , color = 'grey', element = 'step' )"
   ]
  },
  {
   "cell_type": "code",
   "execution_count": 578,
   "id": "dc001de2",
   "metadata": {},
   "outputs": [
    {
     "data": {
      "text/plain": [
       "<AxesSubplot:xlabel='YearsEmployed', ylabel='Count'>"
      ]
     },
     "execution_count": 578,
     "metadata": {},
     "output_type": "execute_result"
    },
    {
     "data": {
      "image/png": "[encoded data removed]",
      "text/plain": [
       "<Figure size 432x288 with 1 Axes>"
      ]
     },
     "metadata": {
      "needs_background": "light"
     },
     "output_type": "display_data"
    }
   ],
   "source": [
    "sns.histplot(data= data_abt, x = \"YearsEmployed\", bins = 20 , color = 'blue', element = 'step' )"
   ]
  },
  {
   "cell_type": "code",
   "execution_count": 579,
   "id": "79bae2f0",
   "metadata": {},
   "outputs": [
    {
     "data": {
      "text/plain": [
       "<AxesSubplot:xlabel='CreditScore', ylabel='Count'>"
      ]
     },
     "execution_count": 579,
     "metadata": {},
     "output_type": "execute_result"
    },
    {
     "data": {
      "image/png": "[encoded data removed]",
      "text/plain": [
       "<Figure size 432x288 with 1 Axes>"
      ]
     },
     "metadata": {
      "needs_background": "light"
     },
     "output_type": "display_data"
    }
   ],
   "source": [
    "sns.histplot(data= data_abt, x = \"CreditScore\", bins = 20 , color = 'red', element = 'step' )"
   ]
  },
  {
   "cell_type": "code",
   "execution_count": 580,
   "id": "670b2053",
   "metadata": {},
   "outputs": [
    {
     "data": {
      "text/plain": [
       "<AxesSubplot:xlabel='Income', ylabel='Count'>"
      ]
     },
     "execution_count": 580,
     "metadata": {},
     "output_type": "execute_result"
    },
    {
     "data": {
      "image/png": "[encoded data removed]",
      "text/plain": [
       "<Figure size 432x288 with 1 Axes>"
      ]
     },
     "metadata": {
      "needs_background": "light"
     },
     "output_type": "display_data"
    }
   ],
   "source": [
    "sns.histplot(data= data_abt, x = \"Income\", bins = 20 , color = 'orange', element = 'step' )"
   ]
  },
  {
   "cell_type": "code",
   "execution_count": 476,
   "id": "868435b4",
   "metadata": {},
   "outputs": [],
   "source": [
    "#Como os gráficos mostram assimetria a direita em todos os casos utilizaremos como substituição de outliers a mediana"
   ]
  },
  {
   "cell_type": "code",
   "execution_count": 583,
   "id": "3f157afe",
   "metadata": {},
   "outputs": [],
   "source": [
    "df_cleaned = data_abt.copy()"
   ]
  },
  {
   "cell_type": "code",
   "execution_count": 584,
   "id": "34dca220",
   "metadata": {},
   "outputs": [
    {
     "data": {
      "text/html": [
       "<div>\n",
       "<style scoped>\n",
       "    .dataframe tbody tr th:only-of-type {\n",
       "        vertical-align: middle;\n",
       "    }\n",
       "\n",
       "    .dataframe tbody tr th {\n",
       "        vertical-align: top;\n",
       "    }\n",
       "\n",
       "    .dataframe thead th {\n",
       "        text-align: right;\n",
       "    }\n",
       "</style>\n",
       "<table border=\"1\" class=\"dataframe\">\n",
       "  <thead>\n",
       "    <tr style=\"text-align: right;\">\n",
       "      <th></th>\n",
       "      <th>Gender</th>\n",
       "      <th>Age</th>\n",
       "      <th>Debt</th>\n",
       "      <th>Married</th>\n",
       "      <th>BankCustomer</th>\n",
       "      <th>EducationalLevel</th>\n",
       "      <th>Etnhicity</th>\n",
       "      <th>YearsEmployed</th>\n",
       "      <th>Priordefault</th>\n",
       "      <th>Employed</th>\n",
       "      <th>CreditScore</th>\n",
       "      <th>DriversLicense</th>\n",
       "      <th>Citizen</th>\n",
       "      <th>Zipcode</th>\n",
       "      <th>Income</th>\n",
       "      <th>Approved</th>\n",
       "    </tr>\n",
       "  </thead>\n",
       "  <tbody>\n",
       "    <tr>\n",
       "      <th>0</th>\n",
       "      <td>b</td>\n",
       "      <td>30.83</td>\n",
       "      <td>0.000</td>\n",
       "      <td>u</td>\n",
       "      <td>g</td>\n",
       "      <td>w</td>\n",
       "      <td>v</td>\n",
       "      <td>1.25</td>\n",
       "      <td>t</td>\n",
       "      <td>t</td>\n",
       "      <td>1</td>\n",
       "      <td>f</td>\n",
       "      <td>g</td>\n",
       "      <td>00202</td>\n",
       "      <td>0</td>\n",
       "      <td>1</td>\n",
       "    </tr>\n",
       "    <tr>\n",
       "      <th>1</th>\n",
       "      <td>a</td>\n",
       "      <td>58.67</td>\n",
       "      <td>4.460</td>\n",
       "      <td>u</td>\n",
       "      <td>g</td>\n",
       "      <td>q</td>\n",
       "      <td>h</td>\n",
       "      <td>3.04</td>\n",
       "      <td>t</td>\n",
       "      <td>t</td>\n",
       "      <td>6</td>\n",
       "      <td>f</td>\n",
       "      <td>g</td>\n",
       "      <td>00043</td>\n",
       "      <td>560</td>\n",
       "      <td>1</td>\n",
       "    </tr>\n",
       "    <tr>\n",
       "      <th>2</th>\n",
       "      <td>a</td>\n",
       "      <td>24.50</td>\n",
       "      <td>0.500</td>\n",
       "      <td>u</td>\n",
       "      <td>g</td>\n",
       "      <td>q</td>\n",
       "      <td>h</td>\n",
       "      <td>1.50</td>\n",
       "      <td>t</td>\n",
       "      <td>f</td>\n",
       "      <td>0</td>\n",
       "      <td>f</td>\n",
       "      <td>g</td>\n",
       "      <td>00280</td>\n",
       "      <td>824</td>\n",
       "      <td>1</td>\n",
       "    </tr>\n",
       "    <tr>\n",
       "      <th>3</th>\n",
       "      <td>b</td>\n",
       "      <td>27.83</td>\n",
       "      <td>1.540</td>\n",
       "      <td>u</td>\n",
       "      <td>g</td>\n",
       "      <td>w</td>\n",
       "      <td>v</td>\n",
       "      <td>3.75</td>\n",
       "      <td>t</td>\n",
       "      <td>t</td>\n",
       "      <td>5</td>\n",
       "      <td>t</td>\n",
       "      <td>g</td>\n",
       "      <td>00100</td>\n",
       "      <td>3</td>\n",
       "      <td>1</td>\n",
       "    </tr>\n",
       "    <tr>\n",
       "      <th>4</th>\n",
       "      <td>b</td>\n",
       "      <td>20.17</td>\n",
       "      <td>5.625</td>\n",
       "      <td>u</td>\n",
       "      <td>g</td>\n",
       "      <td>w</td>\n",
       "      <td>v</td>\n",
       "      <td>1.71</td>\n",
       "      <td>t</td>\n",
       "      <td>f</td>\n",
       "      <td>0</td>\n",
       "      <td>f</td>\n",
       "      <td>s</td>\n",
       "      <td>00120</td>\n",
       "      <td>0</td>\n",
       "      <td>1</td>\n",
       "    </tr>\n",
       "  </tbody>\n",
       "</table>\n",
       "</div>"
      ],
      "text/plain": [
       "  Gender    Age   Debt Married BankCustomer EducationalLevel Etnhicity  \\\n",
       "0      b  30.83  0.000       u            g                w         v   \n",
       "1      a  58.67  4.460       u            g                q         h   \n",
       "2      a  24.50  0.500       u            g                q         h   \n",
       "3      b  27.83  1.540       u            g                w         v   \n",
       "4      b  20.17  5.625       u            g                w         v   \n",
       "\n",
       "   YearsEmployed Priordefault Employed  CreditScore DriversLicense Citizen  \\\n",
       "0           1.25            t        t            1              f       g   \n",
       "1           3.04            t        t            6              f       g   \n",
       "2           1.50            t        f            0              f       g   \n",
       "3           3.75            t        t            5              t       g   \n",
       "4           1.71            t        f            0              f       s   \n",
       "\n",
       "  Zipcode  Income Approved  \n",
       "0   00202       0        1  \n",
       "1   00043     560        1  \n",
       "2   00280     824        1  \n",
       "3   00100       3        1  \n",
       "4   00120       0        1  "
      ]
     },
     "execution_count": 584,
     "metadata": {},
     "output_type": "execute_result"
    }
   ],
   "source": [
    "df_cleaned.head()"
   ]
  },
  {
   "cell_type": "code",
   "execution_count": 585,
   "id": "f3777cee",
   "metadata": {},
   "outputs": [
    {
     "name": "stdout",
     "output_type": "stream",
     "text": [
      "<class 'pandas.core.frame.DataFrame'>\n",
      "RangeIndex: 690 entries, 0 to 689\n",
      "Data columns (total 16 columns):\n",
      " #   Column            Non-Null Count  Dtype  \n",
      "---  ------            --------------  -----  \n",
      " 0   Gender            690 non-null    object \n",
      " 1   Age               690 non-null    float64\n",
      " 2   Debt              690 non-null    float64\n",
      " 3   Married           690 non-null    object \n",
      " 4   BankCustomer      690 non-null    object \n",
      " 5   EducationalLevel  690 non-null    object \n",
      " 6   Etnhicity         690 non-null    object \n",
      " 7   YearsEmployed     690 non-null    float64\n",
      " 8   Priordefault      690 non-null    object \n",
      " 9   Employed          690 non-null    object \n",
      " 10  CreditScore       690 non-null    int64  \n",
      " 11  DriversLicense    690 non-null    object \n",
      " 12  Citizen           690 non-null    object \n",
      " 13  Zipcode           690 non-null    object \n",
      " 14  Income            690 non-null    int64  \n",
      " 15  Approved          690 non-null    object \n",
      "dtypes: float64(3), int64(2), object(11)\n",
      "memory usage: 86.4+ KB\n"
     ]
    }
   ],
   "source": [
    "df_cleaned.info()"
   ]
  },
  {
   "cell_type": "code",
   "execution_count": 589,
   "id": "c35b6d7e",
   "metadata": {},
   "outputs": [
    {
     "name": "stdout",
     "output_type": "stream",
     "text": [
      "-593.25 988.75\n"
     ]
    }
   ],
   "source": [
    "q1_Income = np.quantile(df_cleaned['Income'], 0.25)\n",
    " \n",
    "q3_Income = np.quantile(df_cleaned['Income'], 0.75)\n",
    " \n",
    "iqr_Income = q3-q1\n",
    "\n",
    "limin_Income = q1-(1.5*iqr_Income)\n",
    "limsup_Income = q3+(1.5*iqr_Income)\n",
    "\n",
    "print(limin_Income, limsup_Income)"
   ]
  },
  {
   "cell_type": "code",
   "execution_count": 492,
   "id": "d1c66302",
   "metadata": {},
   "outputs": [],
   "source": [
    "q1_Age = np.quantile(df_cleaned['Age'], 0.25)\n",
    " \n",
    "q3_Age = np.quantile(df_cleaned['Age'], 0.75)\n",
    " \n",
    "iqr_Age = q3-q1\n",
    "\n",
    "liminIn_Age = q1-(1.5*iqr_Age)\n",
    "limsup_Age = q3+(1.5*iqr_Age)"
   ]
  },
  {
   "cell_type": "code",
   "execution_count": 493,
   "id": "41327786",
   "metadata": {},
   "outputs": [],
   "source": [
    "q1_Debt = np.quantile(df_cleaned['Debt'], 0.25)\n",
    " \n",
    "q3_Debt = np.quantile(df_cleaned['Debt'], 0.75)\n",
    " \n",
    "iqr_Debt = q3-q1\n",
    "\n",
    "liminIn_Debt = q1-(1.5*iqr_Debt)\n",
    "limsup_Debt = q3+(1.5*iqr_Debt)\n"
   ]
  },
  {
   "cell_type": "code",
   "execution_count": 494,
   "id": "b849078f",
   "metadata": {},
   "outputs": [],
   "source": [
    "\n",
    "q1_YearsEmployed = np.quantile(df_cleaned['YearsEmployed'], 0.25)\n",
    " \n",
    "q3_YearsEmployed = np.quantile(df_cleaned['YearsEmployed'], 0.75)\n",
    " \n",
    "iqr_YearsEmployed = q3-q1\n",
    "\n",
    "liminIn_YearsEmployed = q1-(1.5*iqr_YearsEmployed)\n",
    "limsup_YearsEmployed = q3+(1.5*iqr_YearsEmployed)\n"
   ]
  },
  {
   "cell_type": "code",
   "execution_count": 495,
   "id": "99967716",
   "metadata": {},
   "outputs": [],
   "source": [
    "q1_CreditScore = np.quantile(df_cleaned['CreditScore'], 0.25)\n",
    " \n",
    "q3_CreditScore = np.quantile(df_cleaned['CreditScore'], 0.75)\n",
    " \n",
    "iqr_CreditScore = q3-q1\n",
    "\n",
    "liminIn_CreditScore = q1-(1.5*iqr_CreditScore)\n",
    "limsup_CreditScore = q3+(1.5*iqr_CreditScore)"
   ]
  },
  {
   "cell_type": "code",
   "execution_count": 587,
   "id": "dfe775d4",
   "metadata": {},
   "outputs": [],
   "source": [
    "df_cleaned.loc[df_cleaned[\"Income\"] < liminIncome, 'Income'] = np.nan\n",
    "df_cleaned.loc[df_cleaned[\"Income\"] > limsupIncome, 'Income'] = np.nan"
   ]
  },
  {
   "cell_type": "code",
   "execution_count": 502,
   "id": "306f0efb",
   "metadata": {},
   "outputs": [],
   "source": [
    "df_cleaned.loc[df_cleaned[\"Age\"] < liminIn_Age, 'Age'] = np.nan\n",
    "df_cleaned.loc[df_cleaned[\"Age\"] > limsup_Age, 'Age'] = np.nan"
   ]
  },
  {
   "cell_type": "code",
   "execution_count": 503,
   "id": "d07b90cf",
   "metadata": {},
   "outputs": [],
   "source": [
    "df_cleaned.loc[df_cleaned[\"Debt\"] < liminIn_Debt, 'Debt'] = np.nan\n",
    "df_cleaned.loc[df_cleaned[\"Debt\"] > limsup_Debt, 'Debt'] = np.nan"
   ]
  },
  {
   "cell_type": "code",
   "execution_count": 507,
   "id": "6f7a8070",
   "metadata": {},
   "outputs": [],
   "source": [
    "df_cleaned.loc[df_cleaned[\"YearsEmployed\"] < liminIn_YearsEmployed, 'YearsEmployed'] = np.nan\n",
    "df_cleaned.loc[df_cleaned[\"YearsEmployed\"] > limsup_YearsEmployed, 'YearsEmployed'] = np.nan"
   ]
  },
  {
   "cell_type": "code",
   "execution_count": 508,
   "id": "2d9ea3ad",
   "metadata": {},
   "outputs": [],
   "source": [
    "df_cleaned.loc[df_cleaned[\"CreditScore\"] < liminIn_CreditScore, 'CreditScore'] = np.nan\n",
    "df_cleaned.loc[df_cleaned[\"CreditScore\"] > limsup_CreditScore, 'CreditScore'] = np.nan"
   ]
  },
  {
   "cell_type": "code",
   "execution_count": 588,
   "id": "9d07a7c9",
   "metadata": {},
   "outputs": [
    {
     "name": "stdout",
     "output_type": "stream",
     "text": [
      "<class 'pandas.core.frame.DataFrame'>\n",
      "RangeIndex: 690 entries, 0 to 689\n",
      "Data columns (total 16 columns):\n",
      " #   Column            Non-Null Count  Dtype  \n",
      "---  ------            --------------  -----  \n",
      " 0   Gender            690 non-null    object \n",
      " 1   Age               690 non-null    float64\n",
      " 2   Debt              690 non-null    float64\n",
      " 3   Married           690 non-null    object \n",
      " 4   BankCustomer      690 non-null    object \n",
      " 5   EducationalLevel  690 non-null    object \n",
      " 6   Etnhicity         690 non-null    object \n",
      " 7   YearsEmployed     690 non-null    float64\n",
      " 8   Priordefault      690 non-null    object \n",
      " 9   Employed          690 non-null    object \n",
      " 10  CreditScore       690 non-null    int64  \n",
      " 11  DriversLicense    690 non-null    object \n",
      " 12  Citizen           690 non-null    object \n",
      " 13  Zipcode           690 non-null    object \n",
      " 14  Income            690 non-null    int64  \n",
      " 15  Approved          690 non-null    object \n",
      "dtypes: float64(3), int64(2), object(11)\n",
      "memory usage: 86.4+ KB\n"
     ]
    }
   ],
   "source": [
    "data_abt.info()"
   ]
  },
  {
   "cell_type": "code",
   "execution_count": 590,
   "id": "bc478f76",
   "metadata": {},
   "outputs": [
    {
     "data": {
      "text/plain": [
       "<AxesSubplot:xlabel='Income'>"
      ]
     },
     "execution_count": 590,
     "metadata": {},
     "output_type": "execute_result"
    },
    {
     "data": {
      "image/png": "[encoded data removed]",
      "text/plain": [
       "<Figure size 432x288 with 1 Axes>"
      ]
     },
     "metadata": {
      "needs_background": "light"
     },
     "output_type": "display_data"
    }
   ],
   "source": []
  },
  {
   "cell_type": "code",
   "execution_count": null,
   "id": "b533804f",
   "metadata": {},
   "outputs": [],
   "source": []
  },
  {
   "cell_type": "code",
   "execution_count": null,
   "id": "89e76c72",
   "metadata": {},
   "outputs": [],
   "source": []
  }
 ],
 "metadata": {
  "kernelspec": {
   "display_name": "Python 3 (ipykernel)",
   "language": "python",
   "name": "python3"
  },
  "language_info": {
   "codemirror_mode": {
    "name": "ipython",
    "version": 3
   },
   "file_extension": ".py",
   "mimetype": "text/x-python",
   "name": "python",
   "nbconvert_exporter": "python",
   "pygments_lexer": "ipython3",
   "version": "3.9.7"
  }
 },
 "nbformat": 4,
 "nbformat_minor": 5
}
